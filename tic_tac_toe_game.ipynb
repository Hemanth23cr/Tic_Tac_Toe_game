{
 "cells": [
  {
   "cell_type": "code",
   "execution_count": 1,
   "metadata": {},
   "outputs": [],
   "source": [
    "from easyAI import TwoPlayersGame, AI_Player, Negamax\n",
    "from easyAI.Player import Human_Player"
   ]
  },
  {
   "cell_type": "code",
   "execution_count": 2,
   "metadata": {},
   "outputs": [],
   "source": [
    "class TicTacToe_game(TwoPlayersGame):\n",
    "    def __init__(self, players):\n",
    "    ##Now, define the players and the player who is going to start the game\n",
    "        self.players = players\n",
    "        self.nplayer = 1\n",
    "    #Define the type of board\n",
    "        self.board = [0] * 9\n",
    "    #Now there are some certain things to define as follows −\n",
    "    #Define possible moves\n",
    "    def possible_moves(self):\n",
    "        return [x + 1 for x, y in enumerate(self.board) if y == 0]\n",
    "    #Define the move of a player\n",
    "    def make_move(self, move):\n",
    "        self.board[int(move) - 1] = self.nplayer\n",
    "    #To boost AI, define when a player makes a move\n",
    "    def umake_move(self, move):\n",
    "        self.board[int(move) - 1] = 0\n",
    "    #Define the lose condition that an opponent have three in a line\n",
    "    def condition_for_lose(self):\n",
    "        possible_combinations = [[1,2,3], [4,5,6], [7,8,9],\n",
    "            [1,4,7], [2,5,8], [3,6,9], [1,5,9], [3,5,7]]\n",
    "        return any([all([(self.board[z-1] == self.nopponent)\n",
    "        for z in combination]) for combination in possible_combinations])\n",
    "    #Define a check for the finish of game\n",
    "    def is_over(self):\n",
    "        return (self.possible_moves() == []) or self.condition_for_lose()\n",
    "    #Show the current position of the players in the game\n",
    "    def show(self):\n",
    "        print('\\n'+'\\n'.join([' '.join([['.', 'O', 'X'][self.board[3*j + i]]\n",
    "        for i in range(3)]) for j in range(3)]))\n",
    "    #Compute the scores.\n",
    "    def scoring(self):\n",
    "        return -100 if self.condition_for_lose() else 0"
   ]
  },
  {
   "cell_type": "code",
   "execution_count": 3,
   "metadata": {},
   "outputs": [],
   "source": [
    "#Define the main method to define the algorithm and start the game"
   ]
  },
  {
   "cell_type": "code",
   "execution_count": null,
   "metadata": {},
   "outputs": [
    {
     "name": "stdout",
     "output_type": "stream",
     "text": [
      "\n",
      ". . .\n",
      ". . .\n",
      ". . .\n",
      "\n",
      "Player 1 what do you play ? 5\n",
      "\n",
      "Move #1: player 1 plays 5 :\n",
      "\n",
      ". . .\n",
      ". O .\n",
      ". . .\n",
      "\n",
      "Move #2: player 2 plays 1 :\n",
      "\n",
      "X . .\n",
      ". O .\n",
      ". . .\n",
      "\n",
      "Player 1 what do you play ? 7\n",
      "\n",
      "Move #3: player 1 plays 7 :\n",
      "\n",
      "X . .\n",
      ". O .\n",
      "O . .\n",
      "\n",
      "Move #4: player 2 plays 3 :\n",
      "\n",
      "X . X\n",
      ". O .\n",
      "O . .\n",
      "\n",
      "Player 1 what do you play ? 2\n",
      "\n",
      "Move #5: player 1 plays 2 :\n",
      "\n",
      "X O X\n",
      ". O .\n",
      "O . .\n",
      "\n",
      "Move #6: player 2 plays 8 :\n",
      "\n",
      "X O X\n",
      ". O .\n",
      "O X .\n",
      "\n",
      "Player 1 what do you play ? 9\n",
      "\n",
      "Move #7: player 1 plays 9 :\n",
      "\n",
      "X O X\n",
      ". O .\n",
      "O X O\n",
      "\n",
      "Move #8: player 2 plays 4 :\n",
      "\n",
      "X O X\n",
      "X O .\n",
      "O X O\n"
     ]
    }
   ],
   "source": [
    "if __name__ == \"__main__\":\n",
    "    algo = Negamax(7)\n",
    "    TicTacToe_game([Human_Player(), AI_Player(algo)]).play()"
   ]
  },
  {
   "cell_type": "code",
   "execution_count": null,
   "metadata": {},
   "outputs": [],
   "source": []
  },
  {
   "cell_type": "code",
   "execution_count": null,
   "metadata": {},
   "outputs": [],
   "source": []
  }
 ],
 "metadata": {
  "kernelspec": {
   "display_name": "Python 3",
   "language": "python",
   "name": "python3"
  },
  "language_info": {
   "codemirror_mode": {
    "name": "ipython",
    "version": 3
   },
   "file_extension": ".py",
   "mimetype": "text/x-python",
   "name": "python",
   "nbconvert_exporter": "python",
   "pygments_lexer": "ipython3",
   "version": "3.7.5"
  }
 },
 "nbformat": 4,
 "nbformat_minor": 2
}
